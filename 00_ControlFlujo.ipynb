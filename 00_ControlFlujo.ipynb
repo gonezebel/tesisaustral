{
 "cells": [
  {
   "cell_type": "code",
   "execution_count": null,
   "metadata": {},
   "outputs": [],
   "source": [
    "import os\n",
    "import json\n",
    "import subprocess\n",
    "from datetime import datetime\n",
    "import papermill as pm\n",
    "\n",
    "# Pedir la ruta base del proyecto al usuario\n",
    "base_path = input(\"Por favor, introduce la ruta base del proyecto: \")\n",
    "\n",
    "# Validar la ruta base\n",
    "if not os.path.isdir(base_path):\n",
    "    raise ValueError(f\"La ruta proporcionada no es válida: {base_path}\")\n",
    "\n",
    "# Cargar configuración desde un archivo config.json\n",
    "config_path = os.path.join(base_path, \"config.json\")\n",
    "if not os.path.isfile(config_path):\n",
    "    raise FileNotFoundError(f\"No se encontró el archivo de configuración: {config_path}\")\n",
    "\n",
    "with open(config_path, \"r\") as f:\n",
    "    config = json.load(f)\n",
    "\n",
    "# Leer rutas específicas desde el archivo config.json\n",
    "scripts_path = os.path.join(base_path, config[\"paths\"][\"scripts\"])\n",
    "outputs_path = os.path.join(base_path, config[\"paths\"][\"outputs\"])\n",
    "intermediate_path = os.path.join(base_path, config[\"paths\"][\"intermediate\"])\n",
    "data_path = os.path.join(base_path, config[\"paths\"][\"data\"])\n",
    "\n",
    "# Crear directorios necesarios si no existen\n",
    "os.makedirs(outputs_path, exist_ok=True)\n",
    "os.makedirs(intermediate_path, exist_ok=True)\n",
    "os.makedirs(data_path, exist_ok=True)\n",
    "\n",
    "# Función para ejecutar notebooks con papermill\n",
    "def ejecutar_notebook(notebook_name, parameters=None):\n",
    "    notebook_path = os.path.join(scripts_path, notebook_name)\n",
    "    output_notebook = os.path.join(outputs_path, f\"output_{notebook_name}_{datetime.now().strftime('%Y%m%d')}.ipynb\")\n",
    "    pm.execute_notebook(\n",
    "        notebook_path,\n",
    "        output_notebook,\n",
    "        parameters=parameters or {}\n",
    "    )\n",
    "    print(f\"Notebook ejecutado y guardado en: {output_notebook}\")\n",
    "\n",
    "# Ejemplo de notebooks a ejecutar\n",
    "notebooks = config[\"scripts\"][\"notebooks\"]\n",
    "for notebook in notebooks:\n",
    "    print(f\"Ejecutando {notebook}...\")\n",
    "    ejecutar_notebook(notebook)\n",
    "\n",
    "print(\"Todos los notebooks han sido ejecutados.\")\n"
   ]
  }
 ],
 "metadata": {
  "kernelspec": {
   "display_name": ".venv",
   "language": "python",
   "name": "python3"
  },
  "language_info": {
   "name": "python",
   "version": "3.12.3"
  }
 },
 "nbformat": 4,
 "nbformat_minor": 2
}
