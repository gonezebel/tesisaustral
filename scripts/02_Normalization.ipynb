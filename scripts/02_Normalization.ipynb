{
 "cells": [
  {
   "cell_type": "code",
   "execution_count": 9,
   "metadata": {},
   "outputs": [],
   "source": [
    "import pandas as pd\n",
    "import os\n",
    "import json\n",
    "from sklearn.preprocessing import MinMaxScaler, StandardScaler, MaxAbsScaler, RobustScaler"
   ]
  },
  {
   "cell_type": "code",
   "execution_count": 13,
   "metadata": {},
   "outputs": [],
   "source": [
    "# Cargar configuración\n",
    "with open(\"config.json\", \"r\") as f:\n",
    "    config = json.load(f)\n",
    "\n",
    "base_path = os.path.dirname(os.getcwd())\n",
    "data_path = os.path.join(base_path, config[\"paths\"][\"intermediate\"])\n",
    "normalized_path = os.path.join(base_path, config[\"paths\"][\"intermediate\"])\n",
    "os.makedirs(normalized_path, exist_ok=True)\n",
    "\n",
    "# Cargar dataset original\n",
    "dataset_file = os.path.join(data_path, config[\"parameters\"][\"02_Normalization\"][\"dataset_file\"])\n",
    "df = pd.read_parquet(dataset_file)\n",
    "\n",
    "# Columnas para normalizar\n",
    "columns_to_normalize = [\n",
    "                \"n_visita_urgencia\", \"n_admisiones\", \"n_cirugias\", \"med_combinacion_analgesica_y_antihistaminica\",\n",
    "                \"med_analgesicos\", \"med_anestesicos\", \"med_anti-obesidad\", \"med_antialergia\", \"med_antiartriticos\",\n",
    "                \"med_antiasma\", \"med_antibioticos\", \"med_anticoagulantes\", \"med_antidotos\", \"med_antifungicos\",\n",
    "                \"med_combinacion_de_antihistaminico_y_descongestionante\", \"med_antihistaminicos\", \"med_antihiperglucemicos\",\n",
    "                \"med_antiinfecciosos\", \"med_antiinfectives/varios\", \"med_antineopultimoics\", \"med_antiparkinsondrogas\",\n",
    "                \"med_antiplaquetarios\", \"med_antivirales\", \"med_autonomas\", \"med_cardiacos\", \"med_cardiovasculares\",\n",
    "                \"med_cns\", \"med_anticonceptivos\", \"med_diureticos\", \"med_gastrointestinales\", \"med_inmunosupresores\",\n",
    "                \"med_investigacional\", \"med_relajantes_musculares\", \"med_pre-natalvitaminas\", \"med_psicoterapeuticos\",\n",
    "                \"med_sedantes/hipnoticos\", \"med_vitaminas\", \"cxr_cuenta\", \"cuenta_echo\", \"recuento_electrocardiograma\",\n",
    "                \"headct_cuenta\", \"mri_cuenta\", \"otroct_cuenta\", \"otroimg_cuenta\", \"otrosus_cuenta\", \"otroxr_cuenta\",\n",
    "                \"edad\", \"absolutamentemphcitocuenta_ultimo\", \"albumina_ultima\", \"anc(absneutrophilcuenta)_ultimo\",\n",
    "                \"aniongap_ultimo\", \"aspartatoaminotransferasa(ast)_ultimo\", \"b-typenatriureticpeptidepro(probnp)_ultimo\",\n",
    "                \"bilirrubinadirect_ultimo\", \"panecillo_ultimo\", \"bollo/creatratio_ultimo\", \"calcio_ultimo\", \"cloruro_ultimo\",\n",
    "                \"creatinina_ultimo\", \"dimero_d_ultimo\", \"egfr_ultimo\", \"glucosa_ultima\", \"hematocrito_ultimo\",\n",
    "                \"hemoglobina_ultima\", \"inr_ultimo\", \"lactatepoc_ultimo\", \"plaquetas_ultimo\", \"potasio_ultimo\",\n",
    "                \"sodio_ultimo\", \"troponini(poc)_ultimo\", \"wbc_ultimo\"\n",
    "            ]"
   ]
  },
  {
   "cell_type": "code",
   "execution_count": 14,
   "metadata": {},
   "outputs": [
    {
     "name": "stdout",
     "output_type": "stream",
     "text": [
      "Dataset normalizado guardado en: c:\\Users\\Administrador\\Documents\\PythonScripts\\Tesis\\tesisaustral\\intermediate\\normalized\\02_df_Maxabs.parquet\n",
      "Dataset normalizado guardado en: c:\\Users\\Administrador\\Documents\\PythonScripts\\Tesis\\tesisaustral\\intermediate\\normalized\\02_df_Minmax.parquet\n",
      "Dataset normalizado guardado en: c:\\Users\\Administrador\\Documents\\PythonScripts\\Tesis\\tesisaustral\\intermediate\\normalized\\02_df_Standard.parquet\n",
      "Dataset normalizado guardado en: c:\\Users\\Administrador\\Documents\\PythonScripts\\Tesis\\tesisaustral\\intermediate\\normalized\\02_df_Robust.parquet\n",
      "Dataset normalizado guardado en: c:\\Users\\Administrador\\Documents\\PythonScripts\\Tesis\\tesisaustral\\intermediate\\normalized\\02_df_None.parquet\n"
     ]
    }
   ],
   "source": [
    "# Métodos de normalización\n",
    "scalers = {\n",
    "    \"maxabs\": MaxAbsScaler(),\n",
    "    \"minmax\": MinMaxScaler(),\n",
    "    \"standard\": StandardScaler(),\n",
    "    \"robust\": RobustScaler(),\n",
    "    \"none\": None  # Sin normalización\n",
    "}\n",
    "\n",
    "# Aplicar normalizaciones\n",
    "for method, scaler in scalers.items():\n",
    "    df_normalized = df.copy()\n",
    "    if scaler is not None:\n",
    "        df_normalized[columns_to_normalize] = scaler.fit_transform(df[columns_to_normalize])\n",
    "    # Guardar resultados\n",
    "    output_file = os.path.join(normalized_path, \"normalized\", f\"02_df_{method.capitalize()}.parquet\")\n",
    "    df_normalized.to_parquet(output_file, index=False)\n",
    "    print(f\"Dataset normalizado guardado en: {output_file}\")\n"
   ]
  }
 ],
 "metadata": {
  "kernelspec": {
   "display_name": ".venv",
   "language": "python",
   "name": "python3"
  },
  "language_info": {
   "codemirror_mode": {
    "name": "ipython",
    "version": 3
   },
   "file_extension": ".py",
   "mimetype": "text/x-python",
   "name": "python",
   "nbconvert_exporter": "python",
   "pygments_lexer": "ipython3",
   "version": "3.12.3"
  }
 },
 "nbformat": 4,
 "nbformat_minor": 2
}
